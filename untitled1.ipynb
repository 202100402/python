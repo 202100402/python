{
  "nbformat": 4,
  "nbformat_minor": 0,
  "metadata": {
    "colab": {
      "provenance": [],
      "collapsed_sections": [],
      "authorship_tag": "ABX9TyPCtzkSpJhtyRqPCTUEBIYA",
      "include_colab_link": true
    },
    "kernelspec": {
      "name": "python3",
      "display_name": "Python 3"
    },
    "language_info": {
      "name": "python"
    }
  },
  "cells": [
    {
      "cell_type": "markdown",
      "metadata": {
        "id": "view-in-github",
        "colab_type": "text"
      },
      "source": [
        "<a href=\"https://colab.research.google.com/github/202100402/python/blob/main/untitled1.ipynb\" target=\"_parent\"><img src=\"https://colab.research.google.com/assets/colab-badge.svg\" alt=\"Open In Colab\"/></a>"
      ]
    },
    {
      "cell_type": "code",
      "source": [
        "#202100402 권하늘_과제2\n",
        "\n",
        "#1\n",
        "n = []\n",
        "n.append(int(input(\"자연수 한 개를 입력하세요: \"))) \n",
        "for k in range(1,100):\n",
        "  num = int(input(\"계속 입력을 원하시면, 자연수 한 개를 입력하시고, 아니라면 0을 입력하세요: \"))\n",
        "  if num == 0:\n",
        "    break\n",
        "  else:\n",
        "    n.append(num)\n",
        "\n",
        "    if k == 99:\n",
        "       print(\"이제 그만하세요. 벌써 100개를 입력했어요.\")\n",
        "\n",
        "for i in range(n.__len__()):\n",
        "  for j in range(i + 1, n.__len__()):\n",
        "    x = i\n",
        "    if n[j] > n[x]:\n",
        "      n[j], n[x] = n[x], n[j]\n",
        "\n",
        "print(\"당신이 입력한 숫자는 큰 것부터 순서대로 말한다면 아래와 같습니다.\")\n",
        "print(n)"
      ],
      "metadata": {
        "colab": {
          "base_uri": "https://localhost:8080/"
        },
        "id": "rkmbwIGyqnsS",
        "outputId": "6827a4e7-68af-4ff5-9c18-d416d263c6cb"
      },
      "execution_count": null,
      "outputs": [
        {
          "output_type": "stream",
          "name": "stdout",
          "text": [
            "자연수 한 개를 입력하세요: 5\n",
            "계속 입력을 원하시면, 자연수 한 개를 입력하시고, 아니라면 0을 입력하세요: 2\n",
            "계속 입력을 원하시면, 자연수 한 개를 입력하시고, 아니라면 0을 입력하세요: 9\n",
            "계속 입력을 원하시면, 자연수 한 개를 입력하시고, 아니라면 0을 입력하세요: 0\n",
            "당신이 입력한 숫자는 큰 것부터 순서대로 말한다면 아래와 같습니다.\n",
            "[9, 5, 2]\n"
          ]
        }
      ]
    },
    {
      "cell_type": "code",
      "source": [
        "#202100402 권하늘_과제2\n",
        "\n",
        "#2\n",
        "x = int(input(\"숫자를 입력하세요.:\"))\n",
        "if x > 30:\n",
        "  print (\"너무 많아요.\")\n",
        "\n",
        "else:\n",
        "  p = 1\n",
        "  q = 1\n",
        "  while x >= p:\n",
        "    while p >= q:\n",
        "     if p == q:\n",
        "       print(q)\n",
        "     else:\n",
        "       print(\"*\", end='')\n",
        "     q = q + 1\n",
        "    q = 1\n",
        "    p = p + 1\n",
        "\n",
        "\n",
        "  \n"
      ],
      "metadata": {
        "id": "PIuZMvSRMYoK",
        "colab": {
          "base_uri": "https://localhost:8080/"
        },
        "outputId": "c76433b9-c0f9-4d98-b7b9-403c91892636"
      },
      "execution_count": null,
      "outputs": [
        {
          "output_type": "stream",
          "name": "stdout",
          "text": [
            "숫자를 입력하세요.:5\n",
            "1\n",
            "*2\n",
            "**3\n",
            "***4\n",
            "****5\n"
          ]
        }
      ]
    }
  ]
}